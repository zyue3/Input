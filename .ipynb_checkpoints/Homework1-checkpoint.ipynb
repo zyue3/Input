{
 "cells": [
  {
   "cell_type": "markdown",
   "metadata": {},
   "source": [
    "# Python Problem - the lighthouse\n",
    "\n",
    "(from D. Sivia's book, \"Data Analysis - A Bayesian Tutorial\"):\n",
    "\n",
    "<img src=\"figs/lighthouse.png\" alt=\"Drawing\" style=\"width: 600px;\"/>\n",
    "\n",
    "A lighthouse is somewhere off a piece of straight coastline at a position $\\alpha$ along the shore and a distance $\\beta$ out at sea. It emits a series of short highly collimated flashes at random intervals and hence at random azimuths. These pulses are intercepted on the coast by photo-detectors that record only the fact that a flash has occurred, but not the angle from which it came. \n",
    "$N$ flashes have been recorded so far at positions $\\{x_k\\}$.\n",
    "\n",
    "Suppose $\\beta$ is given. Where is the lighthouse?\n"
   ]
  },
  {
   "cell_type": "markdown",
   "metadata": {},
   "source": [
    "## Guided solution\n",
    "\n",
    "We need to estimate the parameter $\\alpha$. \n",
    "Let us start by writing the likelihood for this problem; since the flashes are thrown at random azimuths, we know that:\n",
    "$$P(\\theta_k | \\alpha, \\beta) = \\frac{1}{\\pi}.$$\n",
    "\n",
    "Moreover,\n",
    "$$\\beta \\tanh(\\theta_k) = x_k - \\alpha,$$\n",
    "and by changing variables we get\n",
    "$$P(x_k | \\alpha, \\beta) = \\frac{\\beta}{\\pi \\big[ \\beta^2 + (x_k - \\alpha)^2 \\big]}.$$\n"
   ]
  },
  {
   "cell_type": "code",
   "execution_count": 1,
   "metadata": {},
   "outputs": [
    {
     "data": {
      "text/plain": [
       "[<matplotlib.lines.Line2D at 0x11bf18320>]"
      ]
     },
     "execution_count": 1,
     "metadata": {},
     "output_type": "execute_result"
    }
   ],
   "source": [
    "# Scientific computing and plotting packages\n",
    "import numpy as np\n",
    "import matplotlib.pyplot as plt\n",
    "    \n",
    "# Likelihood definition\n",
    "def likelihood(x, alpha, beta):\n",
    "    return beta / (np.pi * (beta ** 2 + (x - alpha) ** 2))\n",
    "\n",
    "# Parameters\n",
    "alpha = 30.0  # alpha appears here, only for simmulations purposes, we want to find the value of this parameter\n",
    "beta  = 10.0 # beta is given\n",
    "    \n",
    "#Compute and plot the likelihood\n",
    "x = np.linspace(-90, 90, 1001)\n",
    "plt.plot(x, likelihood(x, alpha, beta))\n"
   ]
  },
  {
   "cell_type": "markdown",
   "metadata": {},
   "source": [
    "The above likelihood is the a Cauchy or Lorentz distribution. \n",
    "We will sample from it so that we can have some synthetic data to work with.\n",
    "\n",
    "## Generate some synthetic data"
   ]
  },
  {
   "cell_type": "code",
   "execution_count": 2,
   "metadata": {
    "collapsed": true
   },
   "outputs": [],
   "source": [
    "from scipy.stats import cauchy\n",
    "samples = cauchy.rvs(loc = alpha, scale = beta, size = 1000)"
   ]
  },
  {
   "cell_type": "markdown",
   "metadata": {},
   "source": [
    "In order to write the posterior we use Bayes theorem\n",
    "$$P(\\alpha | \\{x_k\\}, \\beta) \\propto \\prod_{k = 1}^N P(\\{x_k\\} | \\alpha, \\beta)$$"
   ]
  },
  {
   "cell_type": "code",
   "execution_count": 3,
   "metadata": {},
   "outputs": [
    {
     "data": {
      "image/png": "[encoded data removed]",
      "text/plain": [
       "<Figure size 432x288 with 1 Axes>"
      ]
     },
     "metadata": {},
     "output_type": "display_data"
    }
   ],
   "source": [
    "# Computes the (unnormalized) posterior for a given set of samples\n",
    "def posterior(x, alpha, beta):\n",
    "    post = np.ones(len(alpha))\n",
    "    for x_k in x:\n",
    "        post *= likelihood(x_k, alpha, beta)\n",
    "        post /= np.sum(post)\n",
    "    return post\n",
    "\n",
    "def plot_posterior(n_samples):\n",
    "    alphas = np.linspace(0, 60, 1001)\n",
    "    plt.plot(alphas, posterior(samples[:n_samples], alphas, beta))\n",
    "    plt.axvline(np.mean(samples[:n_samples]), c = \"r\", lw = 2)\n",
    "    \n",
    "plot_posterior(10)"
   ]
  },
  {
   "cell_type": "markdown",
   "metadata": {},
   "source": [
    "\n",
    "**Exercise 1:** Create 4 subplots for different values of $N = 2, 5, 20, 100$."
   ]
  },
  {
   "cell_type": "code",
   "execution_count": 4,
   "metadata": {},
   "outputs": [
    {
     "data": {
      "image/png": "[encoded data removed]",
      "text/plain": [
       "<Figure size 432x288 with 4 Axes>"
      ]
     },
     "metadata": {},
     "output_type": "display_data"
    }
   ],
   "source": [
    "fig, axs = plt.subplots(2, 2)\n",
    "fig.tight_layout()\n",
    "\n",
    "alphas = np.linspace(0, 60, 1001)\n",
    "\n",
    "# Your solution goes here"
   ]
  },
  {
   "cell_type": "markdown",
   "metadata": {},
   "source": [
    "Note the mean does not coincide with the mode of the posterior!\n",
    "\n",
    "Why is that? Will they coincide in the $N \\to \\infty$ limit?\n",
    "\n",
    "Now compute the value of $\\alpha$ that maximizes the posterior (and the likelihood, since our prior here is uniform).\n",
    "The log-likelihood reads:\n",
    "$$\\mathcal{L} (\\alpha) = \\sum_k \\log P(x_k | \\alpha, \\beta) = -\\sum_k \\log[\\beta^2 + (x_k - \\alpha)^2)] + {\\rm c,}$$\n",
    "where $c$ is a constant. \n",
    "\n",
    "Hence the maximum is obtained at\n",
    "$$2 \\sum_k \\frac{x_k - \\alpha^\\ast}{\\beta^2 + (x_k - \\alpha^\\ast)^2} = 0.$$\n",
    "\n",
    "Now let's solve this numerically for different values of $N$.\n",
    "\n",
    "**Exercise 2:** Plot the ML estimate of $\\alpha$ for $N$ between 10 and 1000."
   ]
  },
  {
   "cell_type": "code",
   "execution_count": 5,
   "metadata": {
    "collapsed": true
   },
   "outputs": [],
   "source": [
    "# Use a off the shelf method to find a root of a function on an interval - ex: bisect, brentq, brenth, ridder\n",
    "from scipy.optimize import bisect # Bisection method is probably the simpler to understand\n",
    "\n",
    "# Your solution goes here"
   ]
  }
 ],
 "metadata": {
  "kernelspec": {
   "display_name": "Python 3",
   "language": "python",
   "name": "python3"
  },
  "language_info": {
   "codemirror_mode": {
    "name": "ipython",
    "version": 3
   },
   "file_extension": ".py",
   "mimetype": "text/x-python",
   "name": "python",
   "nbconvert_exporter": "python",
   "pygments_lexer": "ipython3",
   "version": "3.6.3"
  }
 },
 "nbformat": 4,
 "nbformat_minor": 2
}
